{
 "cells": [
  {
   "cell_type": "code",
   "execution_count": 1,
   "metadata": {},
   "outputs": [],
   "source": [
    "# Importing the necessary libraries\n",
    "import random as pyrandom\n",
    "from scipy.spatial.distance import cdist\n",
    "import numpy as np\n",
    "import matplotlib.pyplot\n",
    "%matplotlib inline"
   ]
  },
  {
   "cell_type": "code",
   "execution_count": 2,
   "metadata": {},
   "outputs": [],
   "source": [
    "#Defining a method to plot the clusters\n",
    "ccolors = ['go', 'ro','bo','mo','co','yo']\n",
    "def plotclusters(data,centers=None):\n",
    "    matplotlib.pyplot.xlim([0,100]); matplotlib.pyplot.ylim([0,100])\n",
    "    if centers is None:\n",
    "        matplotlib.pyplot.plot(data[:,0],data[:,1],'bo',markersize=5)\n",
    "    else:\n",
    "        for i in range(np.amax(centers)+1):\n",
    "            matplotlib.pyplot.plot(data[centers==i,0],data[centers==i,1],ccolors[i%len(ccolors)],markersize=5)"
   ]
  },
  {
   "cell_type": "code",
   "execution_count": 3,
   "metadata": {},
   "outputs": [
    {
     "data": {
      "text/plain": [
       "array([[67.26321004, 51.1507531 ],\n",
       "       [70.26601432, 45.75520813],\n",
       "       [65.77922642, 51.32114584],\n",
       "       [70.58468767, 48.84919382],\n",
       "       [70.86586492, 54.27683506],\n",
       "       [72.27622946, 48.79882987],\n",
       "       [63.37465078, 49.24118374],\n",
       "       [65.64884962, 57.74447134],\n",
       "       [70.543928  , 44.30750135],\n",
       "       [71.75714514, 51.97512719],\n",
       "       [27.33432608, 51.8002364 ],\n",
       "       [24.64989104, 50.67091004],\n",
       "       [28.23916149, 47.70213829],\n",
       "       [32.6532264 , 55.76534532],\n",
       "       [29.48551333, 47.77808155],\n",
       "       [30.7353163 , 49.26872839],\n",
       "       [26.23271968, 47.14205125],\n",
       "       [28.32146312, 43.75474169],\n",
       "       [28.87157751, 55.64145213],\n",
       "       [33.21520044, 42.23224751]])"
      ]
     },
     "execution_count": 3,
     "metadata": {},
     "output_type": "execute_result"
    },
    {
     "data": {
      "image/png": "[encoded data removed]",
      "text/plain": [
       "<Figure size 432x288 with 1 Axes>"
      ]
     },
     "metadata": {
      "needs_background": "light"
     },
     "output_type": "display_data"
    }
   ],
   "source": [
    "# A Simple Clustering Problem\n",
    "data =np.r_[4*np.random.randn(10,2)+np.array([70,50]),\n",
    "          4*np.random.randn(10,2)+np.array([30,50])]\n",
    "# shuffle(data)\n",
    "plotclusters(data)\n",
    "data"
   ]
  },
  {
   "cell_type": "code",
   "execution_count": 4,
   "metadata": {},
   "outputs": [
    {
     "data": {
      "text/plain": [
       "array([[67.26321004, 51.1507531 ],\n",
       "       [70.26601432, 45.75520813],\n",
       "       [65.77922642, 51.32114584],\n",
       "       [70.58468767, 48.84919382],\n",
       "       [70.86586492, 54.27683506],\n",
       "       [72.27622946, 48.79882987],\n",
       "       [63.37465078, 49.24118374],\n",
       "       [65.64884962, 57.74447134],\n",
       "       [70.543928  , 44.30750135],\n",
       "       [71.75714514, 51.97512719],\n",
       "       [27.33432608, 51.8002364 ],\n",
       "       [24.64989104, 50.67091004],\n",
       "       [28.23916149, 47.70213829],\n",
       "       [32.6532264 , 55.76534532],\n",
       "       [29.48551333, 47.77808155],\n",
       "       [30.7353163 , 49.26872839],\n",
       "       [26.23271968, 47.14205125],\n",
       "       [28.32146312, 43.75474169],\n",
       "       [28.87157751, 55.64145213],\n",
       "       [33.21520044, 42.23224751]])"
      ]
     },
     "execution_count": 4,
     "metadata": {},
     "output_type": "execute_result"
    }
   ],
   "source": [
    "# Compute distance between each pair of the two collections of inputs i.e., calculate distance between all the points in data\n",
    "from scipy.spatial.distance import cdist\n",
    "ds = cdist(data,data)\n",
    "data"
   ]
  },
  {
   "cell_type": "code",
   "execution_count": 5,
   "metadata": {},
   "outputs": [
    {
     "name": "stderr",
     "output_type": "stream",
     "text": [
      "<ipython-input-5-bb8d7851ac23>:2: ClusterWarning: scipy.cluster: The symmetric non-negative hollow observation matrix looks suspiciously like an uncondensed distance matrix\n",
      "  lm = linkage(ds,\"single\")\n"
     ]
    },
    {
     "data": {
      "text/plain": [
       "array([[  1.        ,   8.        ,   4.52401299,   2.        ],\n",
       "       [ 12.        ,  14.        ,   4.80709772,   2.        ],\n",
       "       [  0.        ,   2.        ,   6.02413256,   2.        ],\n",
       "       [ 15.        ,  21.        ,   6.32362551,   3.        ],\n",
       "       [  4.        ,   9.        ,   6.46455898,   2.        ],\n",
       "       [  3.        ,   5.        ,   6.55336814,   2.        ],\n",
       "       [ 24.        ,  25.        ,   7.87648118,   4.        ],\n",
       "       [ 16.        ,  23.        ,   8.00006959,   4.        ],\n",
       "       [ 20.        ,  26.        ,   8.24582552,   6.        ],\n",
       "       [ 11.        ,  27.        ,  10.16710366,   5.        ],\n",
       "       [ 10.        ,  29.        ,  10.39993639,   6.        ],\n",
       "       [ 17.        ,  30.        ,  10.6910091 ,   7.        ],\n",
       "       [  6.        ,  22.        ,  10.94061062,   3.        ],\n",
       "       [ 18.        ,  31.        ,  11.91401454,   8.        ],\n",
       "       [ 13.        ,  33.        ,  13.71213046,   9.        ],\n",
       "       [ 28.        ,  32.        ,  14.47568325,   9.        ],\n",
       "       [  7.        ,  35.        ,  16.31845065,  10.        ],\n",
       "       [ 19.        ,  34.        ,  18.12121901,  10.        ],\n",
       "       [ 36.        ,  37.        , 126.47888094,  20.        ]])"
      ]
     },
     "execution_count": 5,
     "metadata": {},
     "output_type": "execute_result"
    }
   ],
   "source": [
    "from scipy.cluster.hierarchy import *\n",
    "lm = linkage(ds,\"single\")\n",
    "lm"
   ]
  },
  {
   "cell_type": "code",
   "execution_count": 6,
   "metadata": {},
   "outputs": [
    {
     "data": {
      "image/png": "[encoded data removed]",
      "text/plain": [
       "<Figure size 432x288 with 1 Axes>"
      ]
     },
     "metadata": {
      "needs_background": "light"
     },
     "output_type": "display_data"
    }
   ],
   "source": [
    "_=dendrogram(lm)"
   ]
  },
  {
   "cell_type": "code",
   "execution_count": 7,
   "metadata": {},
   "outputs": [
    {
     "data": {
      "image/png": "[encoded data removed]",
      "text/plain": [
       "<Figure size 432x288 with 1 Axes>"
      ]
     },
     "metadata": {
      "needs_background": "light"
     },
     "output_type": "display_data"
    }
   ],
   "source": [
    "## Plotting the individual clusters\n",
    "plotclusters(data,fcluster(lm,2,criterion='maxclust'))"
   ]
  },
  {
   "cell_type": "code",
   "execution_count": null,
   "metadata": {},
   "outputs": [],
   "source": []
  },
  {
   "cell_type": "code",
   "execution_count": null,
   "metadata": {},
   "outputs": [],
   "source": []
  },
  {
   "cell_type": "code",
   "execution_count": null,
   "metadata": {},
   "outputs": [],
   "source": []
  }
 ],
 "metadata": {
  "kernelspec": {
   "display_name": "Python 3",
   "language": "python",
   "name": "python3"
  },
  "language_info": {
   "codemirror_mode": {
    "name": "ipython",
    "version": 3
   },
   "file_extension": ".py",
   "mimetype": "text/x-python",
   "name": "python",
   "nbconvert_exporter": "python",
   "pygments_lexer": "ipython3",
   "version": "3.8.3"
  }
 },
 "nbformat": 4,
 "nbformat_minor": 4
}
